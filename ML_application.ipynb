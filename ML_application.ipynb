{
 "cells": [
  {
   "cell_type": "code",
   "execution_count": 1,
   "metadata": {},
   "outputs": [],
   "source": [
    "from sklearn.model_selection import train_test_split\n",
    "from sklearn.preprocessing import LabelEncoder\n",
    "from sklearn.linear_model import LogisticRegression\n",
    "from sklearn.metrics import accuracy_score, classification_report\n",
    "from sklearn.tree import DecisionTreeClassifier\n",
    "import pandas as pd\n",
    "import sklearn.metrics\n",
    "from sklearn.tree import DecisionTreeClassifier\n",
    "from sklearn.linear_model import LogisticRegression\n",
    "from sklearn.naive_bayes import GaussianNB\n",
    "from sklearn.ensemble import RandomForestClassifier\n",
    "from sklearn.neighbors import KNeighborsClassifier\n",
    "import numpy as np\n",
    "from sklearn.multioutput import MultiOutputClassifier\n",
    "from sklearn.metrics import hamming_loss, jaccard_score\n",
    "from sklearn.metrics import f1_score\n",
    "from kmodes.kmodes import KModes\n",
    "from sklearn.model_selection import GridSearchCV\n",
    "from global_variables import sexo_options\n",
    "from global_variables import estado_civil_options\n",
    "from global_variables import transporte_options\n",
    "from global_variables import modalidad_options\n",
    "from global_variables import conducta_options\n",
    "from global_variables import comuna_options\n",
    "from global_variables import lugar_options\n",
    "from global_variables import bien_options\n",
    "from global_variables import grupo_edad"
   ]
  },
  {
   "cell_type": "code",
   "execution_count": 2,
   "metadata": {},
   "outputs": [],
   "source": [
    "hurto_tp=pd.read_csv(\"../datasets_clean/hurto_tpc.csv\", delimiter=\";\", encoding=\"utf-8\")\n",
    "hurto_ml = hurto_tp \n",
    "df1 = hurto_tp "
   ]
  },
  {
   "cell_type": "code",
   "execution_count": 3,
   "metadata": {},
   "outputs": [],
   "source": [
    "df1 = df1.drop(['Fecha','Sexo','Edad','Año'], axis=1)"
   ]
  },
  {
   "cell_type": "code",
   "execution_count": 4,
   "metadata": {},
   "outputs": [
    {
     "name": "stdout",
     "output_type": "stream",
     "text": [
      "Init: initializing centroids\n",
      "Init: initializing clusters\n",
      "Starting iterations...\n",
      "Run 1, iteration: 1/100, moves: 4976, cost: 71884.0\n",
      "Init: initializing centroids\n",
      "Init: initializing clusters\n",
      "Starting iterations...\n",
      "Run 2, iteration: 1/100, moves: 9230, cost: 65827.0\n",
      "Run 2, iteration: 2/100, moves: 1085, cost: 65827.0\n",
      "Init: initializing centroids\n",
      "Init: initializing clusters\n",
      "Starting iterations...\n",
      "Run 3, iteration: 1/100, moves: 10757, cost: 66282.0\n",
      "Run 3, iteration: 2/100, moves: 1861, cost: 66282.0\n",
      "Init: initializing centroids\n",
      "Init: initializing clusters\n",
      "Starting iterations...\n",
      "Run 4, iteration: 1/100, moves: 8753, cost: 67316.0\n",
      "Init: initializing centroids\n",
      "Init: initializing clusters\n",
      "Starting iterations...\n",
      "Run 5, iteration: 1/100, moves: 7660, cost: 65827.0\n",
      "Run 5, iteration: 2/100, moves: 4, cost: 65827.0\n",
      "Init: initializing centroids\n",
      "Init: initializing clusters\n",
      "Starting iterations...\n",
      "Run 6, iteration: 1/100, moves: 4738, cost: 71423.0\n",
      "Run 6, iteration: 2/100, moves: 174, cost: 71423.0\n",
      "Init: initializing centroids\n",
      "Init: initializing clusters\n",
      "Starting iterations...\n",
      "Run 7, iteration: 1/100, moves: 13565, cost: 65827.0\n",
      "Run 7, iteration: 2/100, moves: 1605, cost: 65827.0\n",
      "Init: initializing centroids\n",
      "Init: initializing clusters\n",
      "Starting iterations...\n",
      "Run 8, iteration: 1/100, moves: 5695, cost: 73070.0\n",
      "Init: initializing centroids\n",
      "Init: initializing clusters\n",
      "Starting iterations...\n",
      "Run 9, iteration: 1/100, moves: 5240, cost: 72631.0\n",
      "Init: initializing centroids\n",
      "Init: initializing clusters\n",
      "Starting iterations...\n",
      "Run 10, iteration: 1/100, moves: 9253, cost: 65827.0\n",
      "Run 10, iteration: 2/100, moves: 2680, cost: 65827.0\n",
      "Best run was number 2\n",
      "Centroides de los clusters\n",
      "[['Soltero(a)' 'Taxi' 'Atraco' 'Sin dato' '10.0' 'Vía pública' 'Celular']\n",
      " ['Soltero(a)' 'Autobus' 'Cosquilleo' 'Sin dato' '10.0'\n",
      "  'Bus de servicio público' 'Celular']\n",
      " ['Soltero(a)' 'Metro' 'Cosquilleo' 'Sin dato' '10.0'\n",
      "  'Estación del Metro' 'Celular']]\n",
      "Clusters asignados a cada punto de datos:\n",
      "[0 0 0 ... 0 2 1]\n"
     ]
    }
   ],
   "source": [
    "km = KModes(n_clusters=3, init=\"Huang\", n_init=10,verbose=1)\n",
    "df1.fillna(\"Desconocido\", inplace = True)\n",
    "df1 = df1.astype(str)\n",
    "clusters= km.fit_predict(df1)\n",
    "\n",
    "print(\"Centroides de los clusters\")\n",
    "print(km.cluster_centroids_)\n",
    "print(\"Clusters asignados a cada punto de datos:\")\n",
    "print(clusters)"
   ]
  },
  {
   "cell_type": "code",
   "execution_count": 5,
   "metadata": {},
   "outputs": [],
   "source": [
    "def encontrar_posicion(valor, lista):\n",
    "    for i, elemento in enumerate(lista):\n",
    "        if elemento == valor:\n",
    "            return i\n",
    "    return -1  # Valor no encontrado"
   ]
  },
  {
   "cell_type": "code",
   "execution_count": 6,
   "metadata": {},
   "outputs": [],
   "source": [
    "for i in range(len(hurto_ml)):\n",
    "    hurto_ml.loc[i,\"Sexo\"]=encontrar_posicion(hurto_ml.loc[i,\"Sexo\"],sexo_options)\n",
    "    hurto_ml.loc[i,\"Estado_civil\"]=encontrar_posicion(hurto_ml.loc[i,\"Estado_civil\"],estado_civil_options)\n",
    "    hurto_ml.loc[i,\"Comuna\"]=encontrar_posicion(hurto_ml.loc[i,\"Comuna\"],comuna_options)\n",
    "    hurto_ml.loc[i,\"Transporte\"]=encontrar_posicion(hurto_ml.loc[i,\"Transporte\"],transporte_options)\n",
    "    hurto_ml.loc[i,\"Modalidad\"]=encontrar_posicion(hurto_ml.loc[i,\"Modalidad\"],modalidad_options)\n",
    "    hurto_ml.loc[i,\"Conducta\"]=encontrar_posicion(hurto_ml.loc[i,\"Conducta\"],conducta_options)\n",
    "    hurto_ml.loc[i,\"Lugar\"]=encontrar_posicion(hurto_ml.loc[i,\"Lugar\"],lugar_options)\n",
    "    hurto_ml.loc[i,\"Bien\"]=encontrar_posicion(hurto_ml.loc[i,\"Bien\"],bien_options)"
   ]
  },
  {
   "cell_type": "code",
   "execution_count": 7,
   "metadata": {},
   "outputs": [],
   "source": [
    "# Dividir los datos en conjuntos de entrenamiento y prueba\n",
    "X = hurto_ml.drop(['Fecha','Sexo'], axis=1)  # Elimina las columnas\n",
    "y = hurto_ml['Sexo']  # Define tu objetivo, en este caso 'Sexo'\n",
    "\n",
    "X_train, X_test, y_train, y_test = train_test_split(X, y, test_size=0.2, random_state=42)"
   ]
  },
  {
   "cell_type": "code",
   "execution_count": 8,
   "metadata": {},
   "outputs": [],
   "source": [
    "def compare_metrics(learners,X,y,metrics,train_size,repeats):\n",
    "    strlearners=[]\n",
    "    for i in range(0,len(learners)):\n",
    "        strlearners.append(str(learners[i]))  \n",
    "    df=pd.DataFrame(columns=metrics,index=strlearners)\n",
    "    for i in range (0,len(learners)):\n",
    "        for j in range(0,len(metrics)):\n",
    "            scores=[]\n",
    "            for k in range(repeats):\n",
    "                X_train, X_test, y_train, y_test = sklearn.model_selection.train_test_split(X, y, train_size=train_size)\n",
    "                learners[i].fit(X_train,y_train)\n",
    "                y_hat = learners[i].predict(X_test)\n",
    "                y_prob = learners[i].predict_proba(X_test)\n",
    "                if metrics[j]==\"Log loss\":\n",
    "                    scores.append(sklearn.metrics.log_loss(y_test, y_prob))\n",
    "                if metrics[j]==\"Brier Score Loss\":\n",
    "                    scores.append(sklearn.metrics.brier_score_loss(y_test, y_prob[:,1]))\n",
    "                if metrics[j]==\"Accuracy\":\n",
    "                    scores.append(sklearn.metrics.accuracy_score(y_test, y_hat))\n",
    "                if metrics[j]==\"Precision\":\n",
    "                    scores.append(sklearn.metrics.precision_score(y_test, y_hat))\n",
    "                if metrics[j]==\"F1\":\n",
    "                    scores.append(sklearn.metrics.f1_score(y_test, y_hat))\n",
    "                if metrics[j]==\"Recall\":\n",
    "                    scores.append(sklearn.metrics.recall_score(y_test, y_hat))\n",
    "                if metrics[j]==\"Auroc\":\n",
    "                    scores.append(sklearn.metrics.roc_auc_score(y_test, y_prob[:,1]))\n",
    "            df.iloc[i,j]=np.mean(scores)\n",
    "    return df"
   ]
  },
  {
   "cell_type": "code",
   "execution_count": 9,
   "metadata": {},
   "outputs": [],
   "source": [
    "metricas=[\"Log loss\",\"Brier Score Loss\",\"Accuracy\",\"Precision\",\"F1\",\"Recall\",\"Auroc\"]\n",
    "decision_tree=DecisionTreeClassifier()\n",
    "naive_bayes=GaussianNB()\n",
    "kNN=KNeighborsClassifier()\n",
    "log_regression = LogisticRegression()\n",
    "RandomForest = RandomForestClassifier()\n",
    "elearn=[decision_tree,naive_bayes,kNN,log_regression,RandomForest]"
   ]
  },
  {
   "cell_type": "code",
   "execution_count": 10,
   "metadata": {},
   "outputs": [],
   "source": [
    "#hurto_ml_scores  = compare_metrics(elearn,X,y,metricas,0.8,20)\n",
    "#hurto_ml_scores"
   ]
  },
  {
   "cell_type": "markdown",
   "metadata": {},
   "source": [
    "##### Multietiqueta"
   ]
  },
  {
   "cell_type": "code",
   "execution_count": 11,
   "metadata": {},
   "outputs": [],
   "source": [
    "bins = [-1, 12, 18, 30, 60, float('inf')]\n",
    "labels = ['Niño', 'Adolescente', 'Adulto joven', 'Adulto', 'Adulto mayor']\n",
    "\n",
    "# Utiliza pd.cut para crear los intervalos y asignar las etiquetas\n",
    "hurto_ml['grupo_edad'] = pd.cut(hurto_ml['Edad'], bins=bins, labels=labels, right=False)\n",
    "\n",
    "#Transformación a texto\n",
    "hurto_ml['grupo_edad'] = hurto_ml['grupo_edad'].astype(str)"
   ]
  },
  {
   "cell_type": "code",
   "execution_count": 12,
   "metadata": {},
   "outputs": [],
   "source": [
    "for i in range(len(hurto_ml)):\n",
    "    hurto_ml.loc[i,\"grupo_edad\"]=encontrar_posicion(hurto_ml.loc[i,\"grupo_edad\"],grupo_edad)"
   ]
  },
  {
   "cell_type": "code",
   "execution_count": 13,
   "metadata": {},
   "outputs": [
    {
     "name": "stdout",
     "output_type": "stream",
     "text": [
      "0.6911650107149815\n"
     ]
    }
   ],
   "source": [
    "# Dividir el conjunto de datos en características (X) y etiquetas (y)\n",
    "X = hurto_ml.drop(['Fecha', 'grupo_edad', 'Sexo','Edad','Año'], axis=1)\n",
    "y = list(zip(hurto_ml['grupo_edad'],hurto_ml['Sexo']))\n",
    "\n",
    "# Dividir el conjunto de datos en conjuntos de entrenamiento y prueba\n",
    "X_train, X_test, y_train, y_test = train_test_split(X, y, test_size=0.2, random_state=42)\n",
    "\n",
    "# Crear un clasificador multi-etiqueta (por ejemplo, Random Forest)\n",
    "classifier = MultiOutputClassifier(RandomForestClassifier(n_estimators=100, random_state=42))\n",
    "\n",
    "# Entrenar el modelo\n",
    "classifier.fit(X_train, y_train)\n",
    "\n",
    "# Realizar predicciones en el conjunto de prueba\n",
    "y_pred = classifier.predict(X_test)\n",
    "\n",
    "# Evaluar el rendimiento del modelo\n",
    "print(classifier.score(X_train, np.array(y_train)))"
   ]
  },
  {
   "cell_type": "markdown",
   "metadata": {},
   "source": [
    "Definición de función para la identificación de hiperparámetros óptimos mediante grid_search"
   ]
  },
  {
   "cell_type": "code",
   "execution_count": 14,
   "metadata": {},
   "outputs": [],
   "source": [
    "# param_grid = {\n",
    "#     'estimator__n_estimators': [100, 200, 300],\n",
    "#     'estimator__max_depth': [None, 10, 20, 30]\n",
    "# }\n",
    "\n",
    "# grid_search = GridSearchCV(\n",
    "#     estimator=classifier,\n",
    "#     param_grid=param_grid,\n",
    "#     scoring='accuracy',  # Cambia la métrica según tus necesidades\n",
    "#     cv=5\n",
    "# )"
   ]
  },
  {
   "cell_type": "markdown",
   "metadata": {},
   "source": [
    "Ejecución "
   ]
  },
  {
   "cell_type": "code",
   "execution_count": 15,
   "metadata": {},
   "outputs": [],
   "source": [
    "#grid_search.fit(X_train, y_train)"
   ]
  },
  {
   "cell_type": "code",
   "execution_count": 16,
   "metadata": {},
   "outputs": [],
   "source": [
    "# best_params = grid_search.best_params_\n",
    "# best_params"
   ]
  },
  {
   "cell_type": "code",
   "execution_count": 17,
   "metadata": {},
   "outputs": [],
   "source": [
    "# best_estimator = grid_search.best_estimator_\n",
    "# best_estimator"
   ]
  },
  {
   "cell_type": "markdown",
   "metadata": {},
   "source": [
    "Cargue del modelo en formato PKL"
   ]
  },
  {
   "cell_type": "code",
   "execution_count": 20,
   "metadata": {},
   "outputs": [],
   "source": [
    "import pickle\n",
    "\n",
    "with open(\"../api_generation/model.pkl\",\"wb\") as archivo:\n",
    "    pickle.dump(classifier,archivo)"
   ]
  }
 ],
 "metadata": {
  "kernelspec": {
   "display_name": "project",
   "language": "python",
   "name": "python3"
  },
  "language_info": {
   "codemirror_mode": {
    "name": "ipython",
    "version": 3
   },
   "file_extension": ".py",
   "mimetype": "text/x-python",
   "name": "python",
   "nbconvert_exporter": "python",
   "pygments_lexer": "ipython3",
   "version": "3.10.12"
  },
  "orig_nbformat": 4
 },
 "nbformat": 4,
 "nbformat_minor": 2
}
